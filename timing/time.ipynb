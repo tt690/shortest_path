{
 "cells": [
  {
   "cell_type": "markdown",
   "id": "392d7650",
   "metadata": {},
   "source": [
    "# Title\n",
    "\n",
    "## Imports"
   ]
  },
  {
   "cell_type": "code",
   "execution_count": 1,
   "id": "0b3cb83d",
   "metadata": {},
   "outputs": [],
   "source": [
    "from include.timing import Timing"
   ]
  },
  {
   "cell_type": "markdown",
   "id": "4b493b1c",
   "metadata": {},
   "source": [
    "## Monte carlo options"
   ]
  },
  {
   "cell_type": "code",
   "execution_count": 2,
   "id": "8063317f",
   "metadata": {},
   "outputs": [],
   "source": [
    "vertex_ranges = [500_000, 1_000_000, 2_000_000]\n",
    "edge_ranges = [v*2 for v in vertex_ranges] + [v*4 for v in vertex_ranges]\n",
    "iterations_per_combination = 10\n",
    "graph_combinations = 1"
   ]
  },
  {
   "cell_type": "markdown",
   "id": "e92983b3",
   "metadata": {},
   "source": [
    "## Run dijkstra"
   ]
  },
  {
   "cell_type": "code",
   "execution_count": 3,
   "id": "550f0db1",
   "metadata": {},
   "outputs": [],
   "source": [
    "timing = Timing(\n",
    "    vertex_ranges=vertex_ranges,\n",
    "    edge_ranges=edge_ranges,\n",
    "    iterations_per_combination=iterations_per_combination,\n",
    "    graph_combinations=graph_combinations\n",
    ")"
   ]
  },
  {
   "cell_type": "code",
   "execution_count": 4,
   "id": "fb7ec1d1",
   "metadata": {},
   "outputs": [
    {
     "ename": "KeyboardInterrupt",
     "evalue": "",
     "output_type": "error",
     "traceback": [
      "\u001b[31m---------------------------------------------------------------------------\u001b[39m",
      "\u001b[31mKeyboardInterrupt\u001b[39m                         Traceback (most recent call last)",
      "\u001b[36mCell\u001b[39m\u001b[36m \u001b[39m\u001b[32mIn[4]\u001b[39m\u001b[32m, line 1\u001b[39m\n\u001b[32m----> \u001b[39m\u001b[32m1\u001b[39m \u001b[43mtiming\u001b[49m\u001b[43m.\u001b[49m\u001b[43mrun\u001b[49m\u001b[43m(\u001b[49m\u001b[33;43m\"\u001b[39;49m\u001b[33;43mdijkstra_timings.csv\u001b[39;49m\u001b[33;43m\"\u001b[39;49m\u001b[43m)\u001b[49m\n",
      "\u001b[36mFile \u001b[39m\u001b[32mc:\\Data\\Repos\\shortest_path\\timing\\include\\timing.py:56\u001b[39m, in \u001b[36mTiming.run\u001b[39m\u001b[34m(self, output_file)\u001b[39m\n\u001b[32m     54\u001b[39m vertex_count, edge_count = \u001b[38;5;28mself\u001b[39m.shortest_path_instance.initialize(bmssp=bmssp)\n\u001b[32m     55\u001b[39m start = time.time()\n\u001b[32m---> \u001b[39m\u001b[32m56\u001b[39m \u001b[38;5;28;43mself\u001b[39;49m\u001b[43m.\u001b[49m\u001b[43mshortest_path_instance\u001b[49m\u001b[43m.\u001b[49m\u001b[43mget_shortest_path\u001b[49m\u001b[43m(\u001b[49m\u001b[43m)\u001b[49m\n\u001b[32m     57\u001b[39m elapsed = time.time() - start\n\u001b[32m     58\u001b[39m writer.writerow({\n\u001b[32m     59\u001b[39m     \u001b[33m\"\u001b[39m\u001b[33mvertices\u001b[39m\u001b[33m\"\u001b[39m: vertex_count,\n\u001b[32m     60\u001b[39m     \u001b[33m\"\u001b[39m\u001b[33medges\u001b[39m\u001b[33m\"\u001b[39m: edge_count,\n\u001b[32m   (...)\u001b[39m\u001b[32m     64\u001b[39m     \u001b[33m\"\u001b[39m\u001b[33mbmssp\u001b[39m\u001b[33m\"\u001b[39m: bmssp\n\u001b[32m     65\u001b[39m })\n",
      "\u001b[36mFile \u001b[39m\u001b[32mc:\\Data\\Repos\\shortest_path\\timing\\include\\shortest_path.py:78\u001b[39m, in \u001b[36mShortestPathLib.get_shortest_path\u001b[39m\u001b[34m(self)\u001b[39m\n\u001b[32m     74\u001b[39m \u001b[38;5;28;01mdef\u001b[39;00m\u001b[38;5;250m \u001b[39m\u001b[34mget_shortest_path\u001b[39m(\u001b[38;5;28mself\u001b[39m):\n\u001b[32m     75\u001b[39m \u001b[38;5;250m    \u001b[39m\u001b[33;03m\"\"\"\u001b[39;00m\n\u001b[32m     76\u001b[39m \u001b[33;03m    Get the shortest path from the source to the target.\u001b[39;00m\n\u001b[32m     77\u001b[39m \u001b[33;03m    \"\"\"\u001b[39;00m\n\u001b[32m---> \u001b[39m\u001b[32m78\u001b[39m     \u001b[38;5;28;43mself\u001b[39;49m\u001b[43m.\u001b[49m\u001b[43mlib\u001b[49m\u001b[43m.\u001b[49m\u001b[43mget_shortest_path\u001b[49m\u001b[43m(\u001b[49m\u001b[43m)\u001b[49m\n",
      "\u001b[31mKeyboardInterrupt\u001b[39m: "
     ]
    }
   ],
   "source": [
    "timing.run(\"dijkstra_timings.csv\")"
   ]
  }
 ],
 "metadata": {
  "kernelspec": {
   "display_name": ".env",
   "language": "python",
   "name": "python3"
  },
  "language_info": {
   "codemirror_mode": {
    "name": "ipython",
    "version": 3
   },
   "file_extension": ".py",
   "mimetype": "text/x-python",
   "name": "python",
   "nbconvert_exporter": "python",
   "pygments_lexer": "ipython3",
   "version": "3.12.6"
  }
 },
 "nbformat": 4,
 "nbformat_minor": 5
}
