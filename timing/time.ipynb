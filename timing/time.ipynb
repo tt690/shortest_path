{
 "cells": [
  {
   "cell_type": "markdown",
   "id": "392d7650",
   "metadata": {},
   "source": [
    "# Title\n",
    "\n",
    "## Imports"
   ]
  },
  {
   "cell_type": "code",
   "execution_count": 1,
   "id": "0b3cb83d",
   "metadata": {},
   "outputs": [],
   "source": [
    "from include.timing import Timing"
   ]
  },
  {
   "cell_type": "markdown",
   "id": "4b493b1c",
   "metadata": {},
   "source": [
    "## Monte carlo options"
   ]
  },
  {
   "cell_type": "code",
   "execution_count": null,
   "id": "8063317f",
   "metadata": {},
   "outputs": [],
   "source": [
    "vertex_ranges = [1000000, 2000000, 3000000, 4000000, 5000000, 6000000]\n",
    "edge_ranges = [1000000, 2000000, 3000000, 4000000, 5000000, 6000000]\n",
    "iterations_per_combination = 10\n",
    "graph_combinations = 10"
   ]
  },
  {
   "cell_type": "markdown",
   "id": "e92983b3",
   "metadata": {},
   "source": [
    "## Run dijkstra"
   ]
  },
  {
   "cell_type": "code",
   "execution_count": 3,
   "id": "550f0db1",
   "metadata": {},
   "outputs": [],
   "source": [
    "timing = Timing(\n",
    "    vertex_ranges=vertex_ranges,\n",
    "    edge_ranges=edge_ranges,\n",
    "    iterations_per_combination=iterations_per_combination,\n",
    "    graph_combinations=graph_combinations\n",
    ")"
   ]
  },
  {
   "cell_type": "code",
   "execution_count": 4,
   "id": "fb7ec1d1",
   "metadata": {},
   "outputs": [
    {
     "ename": "OSError",
     "evalue": "[WinError -1073741569] Windows Error 0xc00000ff",
     "output_type": "error",
     "traceback": [
      "\u001b[31m---------------------------------------------------------------------------\u001b[39m",
      "\u001b[31mOSError\u001b[39m                                   Traceback (most recent call last)",
      "\u001b[36mCell\u001b[39m\u001b[36m \u001b[39m\u001b[32mIn[4]\u001b[39m\u001b[32m, line 1\u001b[39m\n\u001b[32m----> \u001b[39m\u001b[32m1\u001b[39m \u001b[43mtiming\u001b[49m\u001b[43m.\u001b[49m\u001b[43mrun\u001b[49m\u001b[43m(\u001b[49m\u001b[33;43m\"\u001b[39;49m\u001b[33;43mdijkstra_timings.csv\u001b[39;49m\u001b[33;43m\"\u001b[39;49m\u001b[43m)\u001b[49m\n",
      "\u001b[36mFile \u001b[39m\u001b[32mc:\\Data\\Repos\\shortest_path\\timing\\include\\timing.py:33\u001b[39m, in \u001b[36mTiming.run\u001b[39m\u001b[34m(self, output_file)\u001b[39m\n\u001b[32m     30\u001b[39m \u001b[38;5;28mself\u001b[39m.shortest_path_instance.set_random_seed(random_seed)\n\u001b[32m     32\u001b[39m \u001b[38;5;28;01mfor\u001b[39;00m graph_config \u001b[38;5;129;01min\u001b[39;00m \u001b[38;5;28mrange\u001b[39m(\u001b[38;5;28mself\u001b[39m.graph_combinations):\n\u001b[32m---> \u001b[39m\u001b[32m33\u001b[39m     \u001b[38;5;28;43mself\u001b[39;49m\u001b[43m.\u001b[49m\u001b[43mshortest_path_instance\u001b[49m\u001b[43m.\u001b[49m\u001b[43mgenerate_graph\u001b[49m\u001b[43m(\u001b[49m\u001b[43mvertex_count\u001b[49m\u001b[43m,\u001b[49m\u001b[43m \u001b[49m\u001b[43medge_count\u001b[49m\u001b[43m)\u001b[49m\n\u001b[32m     34\u001b[39m     vertex_count, edge_count = \u001b[38;5;28mself\u001b[39m.shortest_path_instance.initialize(bmssp=bmssp)\n\u001b[32m     35\u001b[39m     \u001b[38;5;28;01mfor\u001b[39;00m i \u001b[38;5;129;01min\u001b[39;00m \u001b[38;5;28mrange\u001b[39m(\u001b[38;5;28mself\u001b[39m.iterations_per_combination):\n",
      "\u001b[36mFile \u001b[39m\u001b[32mc:\\Data\\Repos\\shortest_path\\timing\\include\\shortest_path.py:28\u001b[39m, in \u001b[36mgenerate_graph\u001b[39m\u001b[34m(self, num_vertices, num_edges)\u001b[39m\n\u001b[32m     25\u001b[39m \u001b[38;5;28mself\u001b[39m.lib.get_shortest_path.argtypes = []\n\u001b[32m     26\u001b[39m \u001b[38;5;28mself\u001b[39m.lib.get_shortest_path.restype = \u001b[38;5;28;01mNone\u001b[39;00m\n\u001b[32m---> \u001b[39m\u001b[32m28\u001b[39m \u001b[38;5;28mself\u001b[39m.lib.set_random_seed.argtypes = [ctypes.c_uint]\n\u001b[32m     29\u001b[39m \u001b[38;5;28mself\u001b[39m.lib.set_random_seed.restype = \u001b[38;5;28;01mNone\u001b[39;00m\n",
      "\u001b[31mOSError\u001b[39m: [WinError -1073741569] Windows Error 0xc00000ff"
     ]
    }
   ],
   "source": [
    "timing.run(\"dijkstra_timings.csv\")"
   ]
  }
 ],
 "metadata": {
  "kernelspec": {
   "display_name": ".env",
   "language": "python",
   "name": "python3"
  },
  "language_info": {
   "codemirror_mode": {
    "name": "ipython",
    "version": 3
   },
   "file_extension": ".py",
   "mimetype": "text/x-python",
   "name": "python",
   "nbconvert_exporter": "python",
   "pygments_lexer": "ipython3",
   "version": "3.12.6"
  }
 },
 "nbformat": 4,
 "nbformat_minor": 5
}
