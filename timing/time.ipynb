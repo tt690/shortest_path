{
 "cells": [
  {
   "cell_type": "markdown",
   "id": "392d7650",
   "metadata": {},
   "source": [
    "# Title\n",
    "\n",
    "## Imports"
   ]
  },
  {
   "cell_type": "code",
   "execution_count": 1,
   "id": "0b3cb83d",
   "metadata": {},
   "outputs": [],
   "source": [
    "from include.timing import Timing"
   ]
  },
  {
   "cell_type": "markdown",
   "id": "4b493b1c",
   "metadata": {},
   "source": [
    "## Monte carlo options"
   ]
  },
  {
   "cell_type": "code",
   "execution_count": 2,
   "id": "8063317f",
   "metadata": {},
   "outputs": [],
   "source": [
    "vertex_ranges = [10_000, 100_000, 1_000_000]\n",
    "edge_ranges = [v*2 for v in vertex_ranges] + [v*4 for v in vertex_ranges]\n",
    "iterations_per_combination = 10\n",
    "graph_combinations = 1"
   ]
  },
  {
   "cell_type": "markdown",
   "id": "e92983b3",
   "metadata": {},
   "source": [
    "## Run dijkstra"
   ]
  },
  {
   "cell_type": "code",
   "execution_count": 3,
   "id": "550f0db1",
   "metadata": {},
   "outputs": [],
   "source": [
    "timing = Timing(\n",
    "    vertex_ranges=vertex_ranges,\n",
    "    edge_ranges=edge_ranges,\n",
    "    iterations_per_combination=iterations_per_combination,\n",
    "    graph_combinations=graph_combinations\n",
    ")"
   ]
  },
  {
   "cell_type": "code",
   "execution_count": 4,
   "id": "fb7ec1d1",
   "metadata": {},
   "outputs": [],
   "source": [
    "timing.run(\"results\")"
   ]
  }
 ],
 "metadata": {
  "kernelspec": {
   "display_name": ".env",
   "language": "python",
   "name": "python3"
  },
  "language_info": {
   "codemirror_mode": {
    "name": "ipython",
    "version": 3
   },
   "file_extension": ".py",
   "mimetype": "text/x-python",
   "name": "python",
   "nbconvert_exporter": "python",
   "pygments_lexer": "ipython3",
   "version": "3.13.7"
  }
 },
 "nbformat": 4,
 "nbformat_minor": 5
}
